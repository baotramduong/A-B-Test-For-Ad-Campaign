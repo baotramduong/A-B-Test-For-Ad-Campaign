{
  "nbformat": 4,
  "nbformat_minor": 0,
  "metadata": {
    "kernelspec": {
      "display_name": "Python 3",
      "language": "python",
      "name": "python3"
    },
    "language_info": {
      "codemirror_mode": {
        "name": "ipython",
        "version": 3
      },
      "file_extension": ".py",
      "mimetype": "text/x-python",
      "name": "python",
      "nbconvert_exporter": "python",
      "pygments_lexer": "ipython3",
      "version": "3.8.2"
    },
    "colab": {
      "name": "AB-Test.ipynb",
      "provenance": []
    }
  },
  "cells": [
    {
      "cell_type": "markdown",
      "metadata": {
        "id": "CtLe2rO93U3k"
      },
      "source": [
        "#  A/B Test For Ad campaign"
      ]
    },
    {
      "cell_type": "markdown",
      "metadata": {
        "id": "kUUZpbFT3U3m"
      },
      "source": [
        "\n",
        "\n",
        "\n",
        "\n",
        "<br>\n",
        "\n",
        "### AB testing is essentially an experiment where two or more variants are evaluated by  statistical analysis to determine which variation performs better for a given conversion goal\n",
        "<br>\n",
        "\n",
        "### You are hired by a digital marketing agency that designed a new ad for their client and This ad is hosted on a website .They hired you to do an A/B test to advise them on whether they should go for the new ad or not ."
      ]
    },
    {
      "cell_type": "markdown",
      "metadata": {
        "id": "aL8WPSIn3U3n"
      },
      "source": [
        "## Load Dataset"
      ]
    },
    {
      "cell_type": "code",
      "metadata": {
        "id": "8L53f8SE3U3o"
      },
      "source": [
        "#import libraries\n",
        "import numpy as np\n",
        "import pandas as pd\n",
        "import matplotlib.pyplot as plt\n",
        "np.random.seed(42)"
      ],
      "execution_count": 1,
      "outputs": []
    },
    {
      "cell_type": "code",
      "metadata": {
        "colab": {
          "base_uri": "https://localhost:8080/",
          "height": 359
        },
        "id": "qtWl1Wu_3U3p",
        "outputId": "1f4254de-a58a-48a6-acdb-48f6bdee0754"
      },
      "source": [
        "#load the dataset\n",
        "df = pd.read_excel('/content/AB Test.xlsx')\n",
        "df.head(10)"
      ],
      "execution_count": 2,
      "outputs": [
        {
          "output_type": "execute_result",
          "data": {
            "text/html": [
              "<div>\n",
              "<style scoped>\n",
              "    .dataframe tbody tr th:only-of-type {\n",
              "        vertical-align: middle;\n",
              "    }\n",
              "\n",
              "    .dataframe tbody tr th {\n",
              "        vertical-align: top;\n",
              "    }\n",
              "\n",
              "    .dataframe thead th {\n",
              "        text-align: right;\n",
              "    }\n",
              "</style>\n",
              "<table border=\"1\" class=\"dataframe\">\n",
              "  <thead>\n",
              "    <tr style=\"text-align: right;\">\n",
              "      <th></th>\n",
              "      <th>group</th>\n",
              "      <th>action</th>\n",
              "    </tr>\n",
              "  </thead>\n",
              "  <tbody>\n",
              "    <tr>\n",
              "      <th>0</th>\n",
              "      <td>experiment</td>\n",
              "      <td>view</td>\n",
              "    </tr>\n",
              "    <tr>\n",
              "      <th>1</th>\n",
              "      <td>control</td>\n",
              "      <td>view</td>\n",
              "    </tr>\n",
              "    <tr>\n",
              "      <th>2</th>\n",
              "      <td>control</td>\n",
              "      <td>view and click</td>\n",
              "    </tr>\n",
              "    <tr>\n",
              "      <th>3</th>\n",
              "      <td>control</td>\n",
              "      <td>view and click</td>\n",
              "    </tr>\n",
              "    <tr>\n",
              "      <th>4</th>\n",
              "      <td>control</td>\n",
              "      <td>view</td>\n",
              "    </tr>\n",
              "    <tr>\n",
              "      <th>5</th>\n",
              "      <td>control</td>\n",
              "      <td>view</td>\n",
              "    </tr>\n",
              "    <tr>\n",
              "      <th>6</th>\n",
              "      <td>control</td>\n",
              "      <td>view</td>\n",
              "    </tr>\n",
              "    <tr>\n",
              "      <th>7</th>\n",
              "      <td>control</td>\n",
              "      <td>view</td>\n",
              "    </tr>\n",
              "    <tr>\n",
              "      <th>8</th>\n",
              "      <td>control</td>\n",
              "      <td>view</td>\n",
              "    </tr>\n",
              "    <tr>\n",
              "      <th>9</th>\n",
              "      <td>control</td>\n",
              "      <td>view and click</td>\n",
              "    </tr>\n",
              "  </tbody>\n",
              "</table>\n",
              "</div>"
            ],
            "text/plain": [
              "        group          action\n",
              "0  experiment            view\n",
              "1     control            view\n",
              "2     control  view and click\n",
              "3     control  view and click\n",
              "4     control            view\n",
              "5     control            view\n",
              "6     control            view\n",
              "7     control            view\n",
              "8     control            view\n",
              "9     control  view and click"
            ]
          },
          "metadata": {},
          "execution_count": 2
        }
      ]
    },
    {
      "cell_type": "code",
      "metadata": {
        "colab": {
          "base_uri": "https://localhost:8080/"
        },
        "id": "ZcKHio_H3U3q",
        "outputId": "8c6ecead-68cb-4041-f412-c36184cd25fb"
      },
      "source": [
        "#show dataframe info\n",
        "df.info()"
      ],
      "execution_count": 3,
      "outputs": [
        {
          "output_type": "stream",
          "text": [
            "<class 'pandas.core.frame.DataFrame'>\n",
            "RangeIndex: 3757 entries, 0 to 3756\n",
            "Data columns (total 2 columns):\n",
            " #   Column  Non-Null Count  Dtype \n",
            "---  ------  --------------  ----- \n",
            " 0   group   3757 non-null   object\n",
            " 1   action  3757 non-null   object\n",
            "dtypes: object(2)\n",
            "memory usage: 58.8+ KB\n"
          ],
          "name": "stdout"
        }
      ]
    },
    {
      "cell_type": "markdown",
      "metadata": {
        "id": "p0t5JTM23U3r"
      },
      "source": [
        "# Set Up Hypothesis Test\n"
      ]
    },
    {
      "cell_type": "code",
      "metadata": {
        "colab": {
          "base_uri": "https://localhost:8080/"
        },
        "id": "bxzCh-WL3U3r",
        "outputId": "5ade1e61-e88a-43ae-9646-5d78b69dcc8d"
      },
      "source": [
        "#find insights in our data\n",
        "df['group'].value_counts()"
      ],
      "execution_count": 4,
      "outputs": [
        {
          "output_type": "execute_result",
          "data": {
            "text/plain": [
              "experiment    1881\n",
              "control       1876\n",
              "Name: group, dtype: int64"
            ]
          },
          "metadata": {},
          "execution_count": 4
        }
      ]
    },
    {
      "cell_type": "code",
      "metadata": {
        "colab": {
          "base_uri": "https://localhost:8080/"
        },
        "id": "Aibbg-1s3U3r",
        "outputId": "9c245fa1-84e4-45ee-e2bc-862e85c5922b"
      },
      "source": [
        "#find insights in our data\n",
        "df['action'].value_counts()"
      ],
      "execution_count": 5,
      "outputs": [
        {
          "output_type": "execute_result",
          "data": {
            "text/plain": [
              "view              3082\n",
              "view and click     675\n",
              "Name: action, dtype: int64"
            ]
          },
          "metadata": {},
          "execution_count": 5
        }
      ]
    },
    {
      "cell_type": "markdown",
      "metadata": {
        "id": "PjWYLii93U3r"
      },
      "source": [
        "**Experiment group**: the group that is involved in the new experiment . i.e the group that received the new ad.\n",
        "\n",
        "**Control group**: the 2nd group that didn't receive the new ad.\n",
        "\n",
        "**Click-through rate (CTR)**: the number of clicks advertisers receive on their ads per number of impressions.\n"
      ]
    },
    {
      "cell_type": "markdown",
      "metadata": {
        "id": "jVIOvR3i3U3r"
      },
      "source": [
        "## Hypothesis Testing steps:\n",
        "\n",
        "1) Specify the Null hypothesis (what we assume to be true before we collect the data) i.e. the old ad is better than the new one\n",
        "\n",
        "2) Specify the alternative hypothesis (what we want to try and prove to be true) \n",
        "\n",
        "3) Set the significance level (a): probability of rejecting the Null hypothesis when it is true\n",
        "* significance level of 0.05 indicates a 5% risk of concluding that a difference exists when there is no actual difference.\n",
        "* significance level of 0.05 means we are 95% confident that we can reject the Null hypothesis.\n",
        "* lower significance levels indicate that you require stronger evidence before you reject the Null hypothesis.\n",
        "\n",
        "4) Calculate the corresponding p-value\n",
        "\n",
        "5) Drawing a conclusion\n",
        "\n",
        "\n",
        "**H0** = the CTR associated with the new ad is less than that associated with the old ad (old ad is better than new one)\n",
        "\n",
        "**H1** = opposite of H0: the new ad is better than the old one or CTR of the new one is higher than CTR of the old one."
      ]
    },
    {
      "cell_type": "markdown",
      "metadata": {
        "id": "9IoZfYd-3U3s"
      },
      "source": [
        "## Compute the difference in the click-through rate "
      ]
    },
    {
      "cell_type": "code",
      "metadata": {
        "id": "sBje-Jjv3U3s",
        "colab": {
          "base_uri": "https://localhost:8080/"
        },
        "outputId": "41eb38b7-675e-4efb-c266-21b43a6523bd"
      },
      "source": [
        "#get dataframe with all observations from control group \n",
        "control_df = df.query(\"group == 'control'\")\n",
        "\n",
        "#compute CTR for control group \n",
        "control_ctr = control_df.query(\"action == 'view and click'\").index.nunique() / control_df.index.nunique()\n",
        "\n",
        "#display the CTR For the control group\n",
        "control_ctr"
      ],
      "execution_count": 6,
      "outputs": [
        {
          "output_type": "execute_result",
          "data": {
            "text/plain": [
              "0.19349680170575692"
            ]
          },
          "metadata": {},
          "execution_count": 6
        }
      ]
    },
    {
      "cell_type": "code",
      "metadata": {
        "id": "vtoZiGYl3U3s",
        "colab": {
          "base_uri": "https://localhost:8080/"
        },
        "outputId": "beeb5e28-00c4-4a57-90b4-2ad307f26233"
      },
      "source": [
        "#get dataframe with all records from experiment group \n",
        "experiment_df = df.query(\"group == 'experiment'\")\n",
        "\n",
        "#compute click through rate for experiment group \n",
        "experiment_ctr = experiment_df.query(\"action == 'view and click'\").index.nunique() / experiment_df.index.nunique()\n",
        "\n",
        "#display the CTR For the experiment group\n",
        "experiment_ctr"
      ],
      "execution_count": 7,
      "outputs": [
        {
          "output_type": "execute_result",
          "data": {
            "text/plain": [
              "0.16586921850079744"
            ]
          },
          "metadata": {},
          "execution_count": 7
        }
      ]
    },
    {
      "cell_type": "code",
      "metadata": {
        "id": "zsJck4_M3U3s",
        "colab": {
          "base_uri": "https://localhost:8080/"
        },
        "outputId": "bc11d2ba-824e-4524-a17d-9b77006274d2"
      },
      "source": [
        "#compute the difference in the CTR \n",
        "diff = experiment_ctr - control_ctr\n",
        "\n",
        "#display the difference \n",
        "diff"
      ],
      "execution_count": 8,
      "outputs": [
        {
          "output_type": "execute_result",
          "data": {
            "text/plain": [
              "-0.027627583204959477"
            ]
          },
          "metadata": {},
          "execution_count": 8
        }
      ]
    },
    {
      "cell_type": "markdown",
      "metadata": {
        "id": "fViyVe8p3U3t"
      },
      "source": [
        "# Create sample distribution using bootsrapping"
      ]
    },
    {
      "cell_type": "markdown",
      "metadata": {
        "id": "Bn9GZFv63U3t"
      },
      "source": [
        "## Bootstrapping : \n",
        "The bootstrap method is a statistical technique for estimating quantities about a population by averaging estimates from multiple small data samples.\n",
        "\n",
        "Importantly, samples are constructed by drawing observations from a large data sample one at a time and returning them to the data sample after they have been chosen. This allows a given observation to be included in a given small sample more than once. This approach to sampling is called sampling with replacement.\n",
        "\n",
        "## Example : \n",
        "Bootstrapping in statistics, means sampling with replacement.\n",
        "so if we have a group of individuals and , and want to bootsrap sample of ten individuals from this group , we could randomly sample any ten individuals but with bootsrapping, we are sampling with replacement so we could actually end up sampling 7 out of the ten individuals and three of the previously selected individuals might end up being sampled again"
      ]
    },
    {
      "cell_type": "code",
      "metadata": {
        "id": "rVaubQ083U3t"
      },
      "source": [
        "#bootsrapping\n",
        "differences = []\n",
        "size = df.shape[0]\n",
        "for i in range(10000):\n",
        "  sample = df.sample(size, replace=True)\n",
        "\n",
        "  #get dataframe with all observations from control group \n",
        "  control_df = sample.query(\"group == 'control'\")\n",
        "  #compute CTR for control group \n",
        "  control_ctr = control_df.query(\"action == 'view and click'\").index.nunique() / control_df.index.nunique()\n",
        "\n",
        "  #get dataframe with all records from experiment group \n",
        "  experiment_df = sample.query(\"group == 'experiment'\")\n",
        "  #compute click through rate for experiment group \n",
        "  experiment_ctr = experiment_df.query(\"action == 'view and click'\").index.nunique() / experiment_df.index.nunique()  \n",
        "\n",
        "  differences.append(experiment_ctr - control_ctr)"
      ],
      "execution_count": 16,
      "outputs": []
    },
    {
      "cell_type": "code",
      "metadata": {
        "colab": {
          "base_uri": "https://localhost:8080/"
        },
        "id": "AIqZTM1Oh9ux",
        "outputId": "ae2a53e0-3a64-4f42-afb5-99f9c80ed617"
      },
      "source": [
        "differences[:20]"
      ],
      "execution_count": 17,
      "outputs": [
        {
          "output_type": "execute_result",
          "data": {
            "text/plain": [
              "[-0.03360949547100023,\n",
              " -0.024655828839883043,\n",
              " -0.028523489932885893,\n",
              " -0.035680599347831965,\n",
              " -0.038407543186494864,\n",
              " -0.030496131414808142,\n",
              " -0.01922254635268833,\n",
              " -0.03288782005311067,\n",
              " -0.0314192249224268,\n",
              " -0.03299466549421606,\n",
              " -0.037865146058423366,\n",
              " -0.024293265117329488,\n",
              " -0.03870923783824451,\n",
              " -0.023382681779628323,\n",
              " -0.019105879127469638,\n",
              " -0.026033023216830098,\n",
              " -0.029417970662210302,\n",
              " -0.030843783276005343,\n",
              " -0.028544378631033734,\n",
              " -0.05059629836972196]"
            ]
          },
          "metadata": {},
          "execution_count": 17
        }
      ]
    },
    {
      "cell_type": "markdown",
      "metadata": {
        "id": "OWNZO_k43U3u"
      },
      "source": [
        "# Evaluate the null hypothesis and draw conclustions."
      ]
    },
    {
      "cell_type": "markdown",
      "metadata": {
        "id": "wN6f9z913U3u"
      },
      "source": [
        "### The central limit theorem states that if you have a population with mean μ and standard deviation σ and take sufficiently large random samples from the population with replacement , then the distribution of the sample means will be approximately normally distributed."
      ]
    },
    {
      "cell_type": "code",
      "metadata": {
        "id": "qlGu4WcG3U3u",
        "colab": {
          "base_uri": "https://localhost:8080/",
          "height": 476
        },
        "outputId": "b5bb5175-21dc-4d80-e99c-f3f03d616427"
      },
      "source": [
        "#plot the sampling distribution \n",
        "differences = np.array(differences)\n",
        "\n",
        "#plot\n",
        "plt.figure(figsize=(10, 6))\n",
        "plt.hist(differences)"
      ],
      "execution_count": 19,
      "outputs": [
        {
          "output_type": "execute_result",
          "data": {
            "text/plain": [
              "(array([5.000e+00, 1.150e+02, 6.370e+02, 2.009e+03, 3.034e+03, 2.736e+03,\n",
              "        1.139e+03, 2.900e+02, 3.300e+01, 2.000e+00]),\n",
              " array([-0.06442298, -0.0566406 , -0.04885823, -0.04107586, -0.03329349,\n",
              "        -0.02551111, -0.01772874, -0.00994637, -0.00216399,  0.00561838,\n",
              "         0.01340075]),\n",
              " <a list of 10 Patch objects>)"
            ]
          },
          "metadata": {},
          "execution_count": 19
        },
        {
          "output_type": "display_data",
          "data": {
            "image/png": "[encoded data removed]",
            "text/plain": [
              "<Figure size 720x432 with 1 Axes>"
            ]
          },
          "metadata": {
            "needs_background": "light"
          }
        }
      ]
    },
    {
      "cell_type": "code",
      "metadata": {
        "id": "Y2VVmb583U3v",
        "colab": {
          "base_uri": "https://localhost:8080/",
          "height": 391
        },
        "outputId": "7df67503-a55c-44c2-c8c5-41522b42f613"
      },
      "source": [
        "#simulate the distribution under the null hypothesis \n",
        "null_hypothesis = np.random.normal(0, differences.std(), differences.size)\n",
        "\n",
        "#plot the null distribution \n",
        "plt.figure(figsize=(10, 6))\n",
        "plt.hist(null_hypothesis)\n",
        "plt.axvline(diff, c='red')"
      ],
      "execution_count": 20,
      "outputs": [
        {
          "output_type": "execute_result",
          "data": {
            "text/plain": [
              "<matplotlib.lines.Line2D at 0x7f24ed3fbad0>"
            ]
          },
          "metadata": {},
          "execution_count": 20
        },
        {
          "output_type": "display_data",
          "data": {
            "image/png": "[encoded data removed]",
            "text/plain": [
              "<Figure size 720x432 with 1 Axes>"
            ]
          },
          "metadata": {
            "needs_background": "light"
          }
        }
      ]
    },
    {
      "cell_type": "markdown",
      "metadata": {
        "id": "_iyaO1_B3U3v"
      },
      "source": [
        "###  The definition of a p-value is the probability of observing your statistic (or one more extreme in favor of the alternative) if the null hypothesis is true."
      ]
    },
    {
      "cell_type": "markdown",
      "metadata": {
        "id": "h9Vue9Gk3U3v"
      },
      "source": [
        "### The confidence level is equivalent to 1 – the alpha level. So, if your significance level is 0.05, the corresponding confidence level is 95%.\n",
        "\n",
        "###  i.e for P Value less than 0.05 we are 95% percent confident that we can reject the null hypothesis "
      ]
    },
    {
      "cell_type": "code",
      "metadata": {
        "id": "kW12PdOE3U3v",
        "colab": {
          "base_uri": "https://localhost:8080/"
        },
        "outputId": "cbb50da2-e4ec-4483-b903-b299a3d8970b"
      },
      "source": [
        "#compute the  p-value \n",
        "(null_hypothesis > diff).mean()"
      ],
      "execution_count": 21,
      "outputs": [
        {
          "output_type": "execute_result",
          "data": {
            "text/plain": [
              "0.9987"
            ]
          },
          "metadata": {},
          "execution_count": 21
        }
      ]
    },
    {
      "cell_type": "markdown",
      "metadata": {
        "id": "hT99DzcCoO49"
      },
      "source": [
        "We need p-value < 0.05 to reject H0, which is not the case this time.\n",
        "Hence, the agency should not go for the new ad."
      ]
    },
    {
      "cell_type": "code",
      "metadata": {
        "id": "FXb1q2wJoQxd"
      },
      "source": [
        ""
      ],
      "execution_count": null,
      "outputs": []
    }
  ]
}